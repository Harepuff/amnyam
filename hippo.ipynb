{
 "cells": [
  {
   "cell_type": "code",
   "execution_count": 64,
   "metadata": {},
   "outputs": [],
   "source": [
    "import numpy as np\n",
    "import pandas as pd\n",
    "from scipy.stats import ks_2samp, mannwhitneyu, spearmanr, shapiro, kstest, lognorm, expon, gamma, cramervonmises"
   ]
  },
  {
   "cell_type": "code",
   "execution_count": 65,
   "metadata": {},
   "outputs": [],
   "source": [
    "df = pd.read_csv('data_optimized.csv')"
   ]
  },
  {
   "cell_type": "code",
   "execution_count": 66,
   "metadata": {},
   "outputs": [
    {
     "data": {
      "text/html": [
       "<div>\n",
       "<style scoped>\n",
       "    .dataframe tbody tr th:only-of-type {\n",
       "        vertical-align: middle;\n",
       "    }\n",
       "\n",
       "    .dataframe tbody tr th {\n",
       "        vertical-align: top;\n",
       "    }\n",
       "\n",
       "    .dataframe thead th {\n",
       "        text-align: right;\n",
       "    }\n",
       "</style>\n",
       "<table border=\"1\" class=\"dataframe\">\n",
       "  <thead>\n",
       "    <tr style=\"text-align: right;\">\n",
       "      <th></th>\n",
       "      <th>author_type</th>\n",
       "      <th>floor</th>\n",
       "      <th>floors_count</th>\n",
       "      <th>rooms_count</th>\n",
       "      <th>total_meters</th>\n",
       "      <th>price_per_month</th>\n",
       "      <th>district</th>\n",
       "      <th>street</th>\n",
       "      <th>underground</th>\n",
       "    </tr>\n",
       "  </thead>\n",
       "  <tbody>\n",
       "    <tr>\n",
       "      <th>0</th>\n",
       "      <td>real_estate_agent</td>\n",
       "      <td>15</td>\n",
       "      <td>20</td>\n",
       "      <td>3</td>\n",
       "      <td>95.0</td>\n",
       "      <td>450000</td>\n",
       "      <td>Пресненский</td>\n",
       "      <td>Мантулинская</td>\n",
       "      <td>Москва-Сити</td>\n",
       "    </tr>\n",
       "    <tr>\n",
       "      <th>1</th>\n",
       "      <td>real_estate_agent</td>\n",
       "      <td>35</td>\n",
       "      <td>57</td>\n",
       "      <td>4</td>\n",
       "      <td>209.0</td>\n",
       "      <td>700000</td>\n",
       "      <td>Хорошевский</td>\n",
       "      <td>Чапаевский переулок</td>\n",
       "      <td>Аэропорт</td>\n",
       "    </tr>\n",
       "    <tr>\n",
       "      <th>2</th>\n",
       "      <td>real_estate_agent</td>\n",
       "      <td>9</td>\n",
       "      <td>17</td>\n",
       "      <td>1</td>\n",
       "      <td>19.6</td>\n",
       "      <td>36000</td>\n",
       "      <td>Крюково</td>\n",
       "      <td>проспект Георгиевский</td>\n",
       "      <td>Зеленоград — Крюково</td>\n",
       "    </tr>\n",
       "    <tr>\n",
       "      <th>3</th>\n",
       "      <td>real_estate_agent</td>\n",
       "      <td>3</td>\n",
       "      <td>8</td>\n",
       "      <td>5</td>\n",
       "      <td>220.0</td>\n",
       "      <td>750000</td>\n",
       "      <td>Хамовники</td>\n",
       "      <td>1-й Зачатьевский переулок</td>\n",
       "      <td>Кропоткинская</td>\n",
       "    </tr>\n",
       "    <tr>\n",
       "      <th>4</th>\n",
       "      <td>real_estate_agent</td>\n",
       "      <td>2</td>\n",
       "      <td>29</td>\n",
       "      <td>1</td>\n",
       "      <td>29.0</td>\n",
       "      <td>27500</td>\n",
       "      <td>Хорошево-Мневники</td>\n",
       "      <td>Шелепихинская набережная</td>\n",
       "      <td>Шелепиха</td>\n",
       "    </tr>\n",
       "  </tbody>\n",
       "</table>\n",
       "</div>"
      ],
      "text/plain": [
       "         author_type  floor  floors_count  rooms_count  total_meters  \\\n",
       "0  real_estate_agent     15            20            3          95.0   \n",
       "1  real_estate_agent     35            57            4         209.0   \n",
       "2  real_estate_agent      9            17            1          19.6   \n",
       "3  real_estate_agent      3             8            5         220.0   \n",
       "4  real_estate_agent      2            29            1          29.0   \n",
       "\n",
       "   price_per_month           district                     street  \\\n",
       "0           450000        Пресненский              Мантулинская    \n",
       "1           700000        Хорошевский        Чапаевский переулок   \n",
       "2            36000            Крюково      проспект Георгиевский   \n",
       "3           750000          Хамовники  1-й Зачатьевский переулок   \n",
       "4            27500  Хорошево-Мневники   Шелепихинская набережная   \n",
       "\n",
       "            underground  \n",
       "0           Москва-Сити  \n",
       "1              Аэропорт  \n",
       "2  Зеленоград — Крюково  \n",
       "3         Кропоткинская  \n",
       "4              Шелепиха  "
      ]
     },
     "execution_count": 66,
     "metadata": {},
     "output_type": "execute_result"
    }
   ],
   "source": [
    "df.head()"
   ]
  },
  {
   "cell_type": "markdown",
   "metadata": {},
   "source": [
    "### Просмотр графиков, конечно же, натолкнул меня на некие _гипотезы_, и сейчас мы рассмотрим их 😇  \n",
    "p.s. у меня ещё не так сильна база по матстату, поэтому гипотезы не самые сложные, но имеем что имеем.."
   ]
  },
  {
   "cell_type": "markdown",
   "metadata": {},
   "source": [
    "#### 1. Влияние первого этажа на цену"
   ]
  },
  {
   "cell_type": "markdown",
   "metadata": {},
   "source": [
    "Посмотрим, имеют ли обе выборки нормальное распределение."
   ]
  },
  {
   "cell_type": "code",
   "execution_count": 67,
   "metadata": {},
   "outputs": [
    {
     "data": {
      "text/plain": [
       "KstestResult(statistic=np.float64(0.22443762781186094), pvalue=np.float64(0.04945175988220721), statistic_location=np.int64(78200), statistic_sign=np.int8(1))"
      ]
     },
     "execution_count": 67,
     "metadata": {},
     "output_type": "execute_result"
    }
   ],
   "source": [
    "first_floor_prices = df[df['floor'] == 1]['price_per_month']\n",
    "other_floors_prices = df[df['floor'] != 1]['price_per_month']\n",
    "ks_2samp(first_floor_prices, other_floors_prices)"
   ]
  },
  {
   "cell_type": "markdown",
   "metadata": {},
   "source": [
    "_p-value_ оказался меньше 0.05, что говорит о том, что данные НЕ имеют нормальное распределение. Значит, будем использовать не z/t тесты, а что-нибудь другое: например, U-тест Манна-Уитни.  \n",
    "  \n",
    "$H_0$: квартиры на 1 этаже стоят в среднем __не__ дешевле, чем квартиры на всех остальных этажах  \n",
    "$H_1$: квартиры на 1 этаже стоят в среднем дешевле, чем квартиры на всех остальных этажах"
   ]
  },
  {
   "cell_type": "code",
   "execution_count": 68,
   "metadata": {},
   "outputs": [
    {
     "data": {
      "text/plain": [
       "np.float64(0.040480091285698676)"
      ]
     },
     "execution_count": 68,
     "metadata": {},
     "output_type": "execute_result"
    }
   ],
   "source": [
    "statistic, p_value = mannwhitneyu(first_floor_prices, other_floors_prices, alternative='less')\n",
    "p_value"
   ]
  },
  {
   "cell_type": "markdown",
   "metadata": {},
   "source": [
    "_p_value_ меньше 0.05, а значит, мы отвергаем нашу $H_0$ гипотезу — квартиры на первом этаже в среднем стоят дешевле, чем квартиры на остальных этажах."
   ]
  },
  {
   "cell_type": "markdown",
   "metadata": {},
   "source": [
    "---"
   ]
  },
  {
   "cell_type": "markdown",
   "metadata": {},
   "source": [
    "#### 2. Влияние последнего этажа на цену"
   ]
  },
  {
   "cell_type": "markdown",
   "metadata": {},
   "source": [
    "Посмотрим, имеют ли обе выборки нормальное распределение."
   ]
  },
  {
   "cell_type": "code",
   "execution_count": 69,
   "metadata": {},
   "outputs": [
    {
     "data": {
      "text/plain": [
       "KstestResult(statistic=np.float64(0.1486126594822247), pvalue=np.float64(0.022395144799830454), statistic_location=np.int64(349900), statistic_sign=np.int8(-1))"
      ]
     },
     "execution_count": 69,
     "metadata": {},
     "output_type": "execute_result"
    }
   ],
   "source": [
    "last_floor_prices = df[df['floor'] == df['floors_count']]['price_per_month']\n",
    "middle_floor_prices = df[(df['floor'] != 1) & (df['floor'] != df['floors_count'])]['price_per_month']\n",
    "ks_2samp(last_floor_prices, middle_floor_prices)"
   ]
  },
  {
   "cell_type": "markdown",
   "metadata": {},
   "source": [
    "_p_value_ оказался меньше 0.05, значит, будем использовать U-тест Манна-Уитни.  \n",
    "  \n",
    "$H_0$: квартиры на последнем этаже стоят в среднем __не__ дороже, чем квартиры на средних этажах  \n",
    "$H_1$: квартиры на последнем этаже стоят в среднем дороже, чем квартиры на средних этажах\n"
   ]
  },
  {
   "cell_type": "code",
   "execution_count": 70,
   "metadata": {},
   "outputs": [
    {
     "data": {
      "text/plain": [
       "np.float64(0.0037312323833731814)"
      ]
     },
     "execution_count": 70,
     "metadata": {},
     "output_type": "execute_result"
    }
   ],
   "source": [
    "statistic, p_value = mannwhitneyu(last_floor_prices, middle_floor_prices, alternative='greater')\n",
    "p_value"
   ]
  },
  {
   "cell_type": "markdown",
   "metadata": {},
   "source": [
    "_p_value_ меньше 0.05, значит, мы отвергаем $H_0$ гипотезу — квартиры на последних этажах стоят в среднем дороже, чем квартиры на средних этажах.  "
   ]
  },
  {
   "cell_type": "markdown",
   "metadata": {},
   "source": [
    "---"
   ]
  },
  {
   "cell_type": "markdown",
   "metadata": {},
   "source": [
    "#### 3. Корреляция между площадью квартиры и ценой"
   ]
  },
  {
   "cell_type": "markdown",
   "metadata": {},
   "source": [
    "Посмотрим, имеют ли обе выборки нормальное распределение."
   ]
  },
  {
   "cell_type": "code",
   "execution_count": 71,
   "metadata": {},
   "outputs": [
    {
     "data": {
      "text/plain": [
       "KstestResult(statistic=np.float64(1.0), pvalue=np.float64(0.0), statistic_location=np.float64(455.0), statistic_sign=np.int8(1))"
      ]
     },
     "execution_count": 71,
     "metadata": {},
     "output_type": "execute_result"
    }
   ],
   "source": [
    "ks_2samp(df['total_meters'], df['price_per_month'])"
   ]
  },
  {
   "cell_type": "markdown",
   "metadata": {},
   "source": [
    "_p_value_ = 0, значит, выборки снова максимально НЕ распределены нормально, снова не z/t тест 💔😗  \n",
    "Будем использовать непараметрический метод для анализа корреляции — коэффициент корреляции Спирмена.  \n",
    "\n",
    "$H_0$: __не__ наблюдается значимой корреляции между площадью квартиры и ценой  \n",
    "$H_1$: наблюдается значимая корреляция между площадью квартиры и ценой"
   ]
  },
  {
   "cell_type": "code",
   "execution_count": 72,
   "metadata": {},
   "outputs": [
    {
     "data": {
      "text/plain": [
       "(np.float64(0.8651369901446254), np.float64(0.0))"
      ]
     },
     "execution_count": 72,
     "metadata": {},
     "output_type": "execute_result"
    }
   ],
   "source": [
    "corr, p_value = spearmanr(df['total_meters'], df['price_per_month'])\n",
    "corr, p_value"
   ]
  },
  {
   "cell_type": "markdown",
   "metadata": {},
   "source": [
    "_p_value_ меньше 0.05, значит, мы отвергаем $H_0$ — значимая корреляция присутствует, причём она равна 0.86, что соответствует довольно сильной положительной корреляции."
   ]
  },
  {
   "cell_type": "markdown",
   "metadata": {},
   "source": [
    "---"
   ]
  },
  {
   "cell_type": "markdown",
   "metadata": {},
   "source": [
    "#### 4. Распределение площади"
   ]
  },
  {
   "cell_type": "markdown",
   "metadata": {},
   "source": [
    "$H_0$: данные площади распределены нормально  \n",
    "$H_1$: данные площади распределены __не__ нормально"
   ]
  },
  {
   "cell_type": "code",
   "execution_count": 73,
   "metadata": {},
   "outputs": [
    {
     "data": {
      "text/plain": [
       "np.float64(3.5339591739175074e-37)"
      ]
     },
     "execution_count": 73,
     "metadata": {},
     "output_type": "execute_result"
    }
   ],
   "source": [
    "shapiro_stat, shapiro_p = shapiro(df['total_meters']) # тест Шапиро-Уилка на нормальность, для разнообразия\n",
    "shapiro_p"
   ]
  },
  {
   "cell_type": "markdown",
   "metadata": {},
   "source": [
    "Число ооочень малое, значит, отвергаем $H_0$: данные распределены однозначно __не__ нормально 😃  \n",
    "Давайте тогда исследуем, может, данные похожи на какое-то другое распределение:"
   ]
  },
  {
   "cell_type": "code",
   "execution_count": 74,
   "metadata": {},
   "outputs": [
    {
     "data": {
      "text/plain": [
       "np.float64(0.0012037589206601326)"
      ]
     },
     "execution_count": 74,
     "metadata": {},
     "output_type": "execute_result"
    }
   ],
   "source": [
    "params_lognorm = lognorm.fit(df['total_meters'])\n",
    "ks_stat_lognorm, ks_p_lognorm = kstest(df['total_meters'], 'lognorm', args=params_lognorm)\n",
    "ks_p_lognorm # < 0.05, не логнормальное распределение("
   ]
  },
  {
   "cell_type": "code",
   "execution_count": 75,
   "metadata": {},
   "outputs": [
    {
     "data": {
      "text/plain": [
       "np.float64(2.8762527185323475e-23)"
      ]
     },
     "execution_count": 75,
     "metadata": {},
     "output_type": "execute_result"
    }
   ],
   "source": [
    "params_expon = expon.fit(df['total_meters'])\n",
    "ks_stat_expon, ks_p_expon = kstest(df['total_meters'], 'expon', args=params_expon)\n",
    "ks_p_expon # < 0.05, не экспоненциальное распределение(("
   ]
  },
  {
   "cell_type": "code",
   "execution_count": 76,
   "metadata": {},
   "outputs": [
    {
     "data": {
      "text/plain": [
       "np.float64(1.4739258147322687e-07)"
      ]
     },
     "execution_count": 76,
     "metadata": {},
     "output_type": "execute_result"
    }
   ],
   "source": [
    "params_gamma = gamma.fit(df['total_meters']) # тест Крамера-фон Мизеса 😵 на гамма-распределение!\n",
    "cvm_result = cramervonmises(df['total_meters'], 'gamma', args=params_gamma)\n",
    "cvm_result.pvalue # < 0.05, не гамма распределение((("
   ]
  },
  {
   "cell_type": "markdown",
   "metadata": {},
   "source": [
    "По итогу, ближе всего распределение данных оказалось к логнормальному, если снизим нашу планку по alpha до 0.01 😊"
   ]
  },
  {
   "cell_type": "markdown",
   "metadata": {},
   "source": [
    "---"
   ]
  },
  {
   "cell_type": "markdown",
   "metadata": {},
   "source": [
    "#### 5. Влияние этажности на цену"
   ]
  },
  {
   "cell_type": "markdown",
   "metadata": {},
   "source": [
    "Как обычно, проверим нормальность данных:"
   ]
  },
  {
   "cell_type": "code",
   "execution_count": 77,
   "metadata": {},
   "outputs": [
    {
     "data": {
      "text/plain": [
       "KstestResult(statistic=np.float64(1.0), pvalue=np.float64(0.0), statistic_location=np.int64(95), statistic_sign=np.int8(1))"
      ]
     },
     "execution_count": 77,
     "metadata": {},
     "output_type": "execute_result"
    }
   ],
   "source": [
    "ks_2samp(df['floors_count'], df['price_per_month'])"
   ]
  },
  {
   "cell_type": "markdown",
   "metadata": {},
   "source": [
    "Вообще не нормально! Идём к нашей корреляции Спирмена:  \n",
    "\n",
    "$H_0$: __не__ наблюдается значимой корреляции между этажостью квартиры и ценой  \n",
    "$H_1$: наблюдается значимая корреляция между этажностью квартиры и ценой"
   ]
  },
  {
   "cell_type": "code",
   "execution_count": 78,
   "metadata": {},
   "outputs": [
    {
     "data": {
      "text/plain": [
       "(np.float64(-0.09056114146006751), np.float64(0.000904019937556351))"
      ]
     },
     "execution_count": 78,
     "metadata": {},
     "output_type": "execute_result"
    }
   ],
   "source": [
    "corr, p_value = spearmanr(df['floors_count'], df['price_per_month'])\n",
    "corr, p_value"
   ]
  },
  {
   "cell_type": "markdown",
   "metadata": {},
   "source": [
    "_p_value_ меньше 0.05, значит, мы отвергаем $H_0$: наблюдается значимая корреляция между этажностью и ценой = -0.09, хоть она и не особо сильная."
   ]
  },
  {
   "cell_type": "markdown",
   "metadata": {},
   "source": [
    "---"
   ]
  },
  {
   "cell_type": "markdown",
   "metadata": {},
   "source": [
    "#### 6. Выбросы"
   ]
  },
  {
   "cell_type": "markdown",
   "metadata": {},
   "source": [
    "$H_0$: в данных меньше 50 выбросов  \n",
    "$H_1$: в данных больше 50 выбросов"
   ]
  },
  {
   "cell_type": "markdown",
   "metadata": {},
   "source": [
    "Посчитаем количество выбросов методом интерквартильного размаха: будем считать выбросами те значения, что отклоняются от квартилей более чем на 1.5 интерквартильных размахов"
   ]
  },
  {
   "cell_type": "code",
   "execution_count": 79,
   "metadata": {},
   "outputs": [
    {
     "name": "stdout",
     "output_type": "stream",
     "text": [
      "Количество выбросов: 83\n"
     ]
    }
   ],
   "source": [
    "Q1 = np.percentile(df['price_per_month'], 25) # считаем наши квартили\n",
    "Q3 = np.percentile(df['price_per_month'], 75)\n",
    "down = Q1 - 1.5 * (Q3 - Q1) # считаем наши границы: квартиль +/- 1.5 интерквартильного размаха\n",
    "up  =  Q3 + 1.5 * (Q3 - Q1)\n",
    "\n",
    "out = df[(df['price_per_month'] < down) | (df['price_per_month'] > up)] # сами выбросы (если попадают в одну из границ)\n",
    "\n",
    "print(f\"Количество выбросов: {len(out)}\")"
   ]
  },
  {
   "cell_type": "markdown",
   "metadata": {},
   "source": [
    "Больше 50 выбросов, отвергаем $H_0$ 😕  \n",
    "Но это всё ещё хороший результат, т.к. всего у нас 1340 наблюдений, а значит, выбросы составляют всего 6.19% наблюдений!  \n",
    "При увеличении выборки, количество выбросов скорее всего будет иметь тенденцию к уменьшению (т.к. интерквартильных размах может увеличиться)"
   ]
  }
 ],
 "metadata": {
  "kernelspec": {
   "display_name": "Python 3",
   "language": "python",
   "name": "python3"
  },
  "language_info": {
   "codemirror_mode": {
    "name": "ipython",
    "version": 3
   },
   "file_extension": ".py",
   "mimetype": "text/x-python",
   "name": "python",
   "nbconvert_exporter": "python",
   "pygments_lexer": "ipython3",
   "version": "3.12.8"
  }
 },
 "nbformat": 4,
 "nbformat_minor": 2
}
